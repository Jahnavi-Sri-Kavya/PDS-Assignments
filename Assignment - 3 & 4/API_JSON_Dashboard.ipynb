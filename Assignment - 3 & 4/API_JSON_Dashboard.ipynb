{
  "cells": [
    {
      "cell_type": "code",
      "execution_count": 31,
      "metadata": {
        "colab": {
          "base_uri": "https://localhost:8080/",
          "height": 671
        },
        "id": "WzzRu2kpLz-h",
        "outputId": "cc9c017b-5b1f-40ab-a7b8-664bf2f3a865"
      },
      "outputs": [
        {
          "output_type": "display_data",
          "data": {
            "text/plain": [
              "<IPython.core.display.Javascript object>"
            ],
            "application/javascript": [
              "(async (port, path, width, height, cache, element) => {\n",
              "    if (!google.colab.kernel.accessAllowed && !cache) {\n",
              "      return;\n",
              "    }\n",
              "    element.appendChild(document.createTextNode(''));\n",
              "    const url = await google.colab.kernel.proxyPort(port, {cache});\n",
              "    const iframe = document.createElement('iframe');\n",
              "    iframe.src = new URL(path, url).toString();\n",
              "    iframe.height = height;\n",
              "    iframe.width = width;\n",
              "    iframe.style.border = 0;\n",
              "    iframe.allow = [\n",
              "        'accelerometer',\n",
              "        'autoplay',\n",
              "        'camera',\n",
              "        'clipboard-read',\n",
              "        'clipboard-write',\n",
              "        'gyroscope',\n",
              "        'magnetometer',\n",
              "        'microphone',\n",
              "        'serial',\n",
              "        'usb',\n",
              "        'xr-spatial-tracking',\n",
              "    ].join('; ');\n",
              "    element.appendChild(iframe);\n",
              "  })(8050, \"/\", \"100%\", 650, false, window.element)"
            ]
          },
          "metadata": {}
        }
      ],
      "source": [
        "import requests\n",
        "import json\n",
        "import dash\n",
        "import dash_core_components as dcc\n",
        "import dash_html_components as html\n",
        "from dash.dependencies import Input, Output\n",
        "import json\n",
        "\n",
        "# Make the API request\n",
        "url = \"https://amazon-product-data6.p.rapidapi.com/product-by-text\"\n",
        "headers = {\n",
        "    'X-RapidAPI-Key': \"f840b200a8mshccba41278278192p10a0ebjsn562ddf5a8b01\",\n",
        "    'X-RapidAPI-Host': \"amazon-product-data6.p.rapidapi.com\"\n",
        "}\n",
        "params = {\n",
        "    \"keyword\": \"iphone\",\n",
        "    \"page\": \"1\",\n",
        "    \"country\": \"US\",\n",
        "    \"sort_by\": \"feature\"\n",
        "}\n",
        "response = requests.get(url, headers=headers, params=params)\n",
        "\n",
        "# Parse the JSON response\n",
        "data = response.json()\n",
        "\n",
        "filename = \"api_data.json\"\n",
        " # Write the JSON data to the file\n",
        "with open(filename, \"w\") as file:\n",
        "\tjson.dump(data, file)\n",
        "\n",
        "\n",
        "# Read sample JSON data from file\n",
        "with open('api_data.json', 'r') as file:\n",
        "    sample_data = json.load(file)\n",
        "\n",
        "# Extract the 'data' key from the loaded JSON\n",
        "data = sample_data.get('data', [])\n",
        "\n",
        "# Create Dash app\n",
        "app = dash.Dash(__name__)\n",
        "\n",
        "# Define layout of the dashboard\n",
        "app.layout = html.Div([\n",
        "    html.H1(\"Amazon Product Dashboard\"),\n",
        "    dash_table.DataTable(\n",
        "        id='product-table',\n",
        "        columns=[\n",
        "            {'name': 'Title', 'id': 'title'},\n",
        "            {'name': 'Price', 'id': 'price'},\n",
        "            {'name': 'Stars', 'id': 'stars'},\n",
        "            {'name': 'Image', 'id': 'image', 'presentation': 'markdown'},\n",
        "        ],\n",
        "        data=[],\n",
        "    )\n",
        "])\n",
        "\n",
        "# Define callback to update dashboard content\n",
        "@app.callback(\n",
        "    Output('product-table', 'data'),\n",
        "    Input('product-table', 'id')\n",
        ")\n",
        "def update_dashboard(_):\n",
        "    # Prepare data for the table\n",
        "    table_data = []\n",
        "    for product in data:\n",
        "        table_data.append({\n",
        "            'title': product.get('title'),\n",
        "            'price': product.get('price'),\n",
        "            'stars': product.get('stars'),\n",
        "            'image': f\"![Image]({product.get('image')})\"\n",
        "        })\n",
        "\n",
        "    return table_data\n",
        "\n",
        "# Run the Dash app\n",
        "if __name__ == '__main__':\n",
        "    app.run_server(debug=True)"
      ]
    },
    {
      "cell_type": "code",
      "source": [],
      "metadata": {
        "id": "MW6kiGiUUCde"
      },
      "execution_count": null,
      "outputs": []
    }
  ],
  "metadata": {
    "colab": {
      "provenance": []
    },
    "kernelspec": {
      "display_name": "Python 3",
      "name": "python3"
    },
    "language_info": {
      "name": "python"
    }
  },
  "nbformat": 4,
  "nbformat_minor": 0
}